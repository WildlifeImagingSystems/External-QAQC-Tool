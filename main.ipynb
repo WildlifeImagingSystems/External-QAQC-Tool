{
 "cells": [
  {
   "cell_type": "markdown",
   "id": "6eba2952",
   "metadata": {},
   "source": [
    "# Imports"
   ]
  },
  {
   "cell_type": "code",
   "execution_count": null,
   "id": "d3be78a2",
   "metadata": {},
   "outputs": [],
   "source": [
    "# !git clone https://github.com/WildlifeImagingSystems/External-QAQC-Tool\n",
    "# %cd External-QAQC-Tool\n",
    "# !git pull\n",
    "\n",
    "# !pip install azure-storage-blob azure-identity\n",
    "# from google.colab import userdata\n",
    "\n",
    "from scripts import read_txt\n",
    "from scripts import check_video_timing\n",
    "from scripts.notebook_config import NotebookConfig\n",
    "from azure.core.exceptions import ClientAuthenticationError\n",
    "import sys"
   ]
  },
  {
   "cell_type": "markdown",
   "id": "9be6dd63",
   "metadata": {},
   "source": [
    "# Get Inputs"
   ]
  },
  {
   "cell_type": "code",
   "execution_count": null,
   "id": "6ec5e287",
   "metadata": {},
   "outputs": [],
   "source": [
    "default_container = \"https://edpcapitalandsouthern.blob.core.windows.net/rewioscvalidationstudy\"\n",
    "\n",
    "container_url = input(\"Input container URL: \") or default_container"
   ]
  },
  {
   "cell_type": "code",
   "execution_count": null,
   "id": "9cac7ad5",
   "metadata": {},
   "outputs": [],
   "source": [
    "try:\n",
    "    default_token = read_txt.get(\"default_token.txt\")\n",
    "\n",
    "    token = input(\"Input access token: \") or default_token\n",
    "except FileNotFoundError as e:\n",
    "    token = userdata.get('token')"
   ]
  },
  {
   "cell_type": "code",
   "execution_count": null,
   "id": "3883df1c",
   "metadata": {},
   "outputs": [],
   "source": [
    "site_name = input(\"Enter Site Name: \")\n",
    "datapull = input(\"Enter Datapull: \")"
   ]
  },
  {
   "cell_type": "markdown",
   "id": "e9b32e0d",
   "metadata": {},
   "source": [
    "# Create Video Timing Card"
   ]
  },
  {
   "cell_type": "code",
   "execution_count": null,
   "id": "998be495",
   "metadata": {},
   "outputs": [],
   "source": [
    "config = NotebookConfig(\"West_OSC\", site_name, datapull, container_url, token)\n"
   ]
  },
  {
   "cell_type": "code",
   "execution_count": null,
   "id": "de62f6dc",
   "metadata": {},
   "outputs": [],
   "source": [
    "try:\n",
    "    count_detect_files_array, date_list = check_video_timing.create_video_timing_card(config)\n",
    "except ClientAuthenticationError:\n",
    "        print(\"ERROR: Incorrect token used for authentication. Please check that your token is correct and then try again.\")\n",
    "        sys.exit(1)"
   ]
  },
  {
   "cell_type": "code",
   "execution_count": null,
   "id": "24f8fc47",
   "metadata": {},
   "outputs": [],
   "source": [
    "check_video_timing.create_heatmap(count_detect_files_array, date_list, config, config.data_access.list_cam_ids())"
   ]
  }
 ],
 "metadata": {
  "kernelspec": {
   "display_name": "core_env",
   "language": "python",
   "name": "python3"
  },
  "language_info": {
   "codemirror_mode": {
    "name": "ipython",
    "version": 3
   },
   "file_extension": ".py",
   "mimetype": "text/x-python",
   "name": "python",
   "nbconvert_exporter": "python",
   "pygments_lexer": "ipython3"
  }
 },
 "nbformat": 4,
 "nbformat_minor": 5
}
