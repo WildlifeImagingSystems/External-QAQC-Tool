{
 "cells": [
  {
   "cell_type": "code",
   "execution_count": null,
   "id": "d3be78a2",
   "metadata": {},
   "outputs": [],
   "source": [
    "# !git clone https://github.com/WildlifeImagingSystems/External-QAQC-Tool\n",
    "# %cd External-QAQC-Tool\n",
    "# !git pull\n",
    "\n",
    "# !pip install azure-storage-blob azure-identity\n",
    "# from google.colab import userdata\n",
    "\n",
    "from scripts import read_txt\n",
    "from scripts import check_video_timing\n",
    "from scripts.notebook_config import NotebookConfig\n",
    "from pathlib import PurePath\n",
    "import numpy as np\n",
    "import pandas as pd\n",
    "import matplotlib.pyplot as plt"
   ]
  },
  {
   "cell_type": "markdown",
   "id": "3dc6487c",
   "metadata": {},
   "source": [
    "# Check Datapull Timing Using Azure"
   ]
  },
  {
   "cell_type": "markdown",
   "id": "0bb92aa6",
   "metadata": {},
   "source": []
  },
  {
   "cell_type": "code",
   "execution_count": null,
   "id": "6ec5e287",
   "metadata": {},
   "outputs": [],
   "source": [
    "default_container = \"https://edpcapitalandsouthern.blob.core.windows.net/rewioscvalidationstudy\"\n",
    "\n",
    "container_url = input(\"Input container URL: \") or default_container"
   ]
  },
  {
   "cell_type": "code",
   "execution_count": null,
   "id": "9cac7ad5",
   "metadata": {},
   "outputs": [],
   "source": [
    "try:\n",
    "    default_token = read_txt.get(\"default_token.txt\")\n",
    "\n",
    "    token = input(\"Input access token: \") or default_token\n",
    "except FileNotFoundError as e:\n",
    "    token = userdata.get('token')"
   ]
  },
  {
   "cell_type": "markdown",
   "id": "f075da51",
   "metadata": {},
   "source": [
    "### Input Datapull Information\n",
    "Site name and datapull must match exactly what is in the Azure Storage Blob"
   ]
  },
  {
   "cell_type": "code",
   "execution_count": null,
   "id": "3883df1c",
   "metadata": {},
   "outputs": [],
   "source": [
    "site_name = input(\"Enter Site Name: \") or \"Bright_Stalk\"\n",
    "datapull = input(\"Enter Datapull: \") or \"Datapull_071825\""
   ]
  },
  {
   "cell_type": "markdown",
   "id": "e9b32e0d",
   "metadata": {},
   "source": [
    "## Calculate number of missing file"
   ]
  },
  {
   "cell_type": "code",
   "execution_count": null,
   "id": "998be495",
   "metadata": {},
   "outputs": [],
   "source": [
    "config = NotebookConfig(\"West_OSC\", site_name, datapull, container_url, token)"
   ]
  },
  {
   "cell_type": "code",
   "execution_count": null,
   "id": "de62f6dc",
   "metadata": {},
   "outputs": [],
   "source": [
    "count_detect_files_array, count_xmls, video_count, xml_count, date_list = check_video_timing.create_video_timing_card(config)"
   ]
  },
  {
   "cell_type": "code",
   "execution_count": null,
   "id": "24f8fc47",
   "metadata": {},
   "outputs": [],
   "source": [
    "check_video_timing.create_heatmap(count_detect_files_array, date_list, config, config.data_access.list_cam_ids())"
   ]
  }
 ],
 "metadata": {
  "kernelspec": {
   "display_name": "core_env",
   "language": "python",
   "name": "python3"
  },
  "language_info": {
   "codemirror_mode": {
    "name": "ipython",
    "version": 3
   },
   "file_extension": ".py",
   "mimetype": "text/x-python",
   "name": "python",
   "nbconvert_exporter": "python",
   "pygments_lexer": "ipython3"
  }
 },
 "nbformat": 4,
 "nbformat_minor": 5
}
