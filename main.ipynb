{
 "cells": [
  {
   "cell_type": "code",
   "execution_count": null,
   "id": "d3be78a2",
   "metadata": {},
   "outputs": [],
   "source": [
    "from scripts import read_txt\n",
    "from scripts.notebook_config import NotebookConfig"
   ]
  },
  {
   "cell_type": "markdown",
   "id": "3dc6487c",
   "metadata": {},
   "source": [
    "# Check Datapull Timing Using Azure"
   ]
  },
  {
   "cell_type": "markdown",
   "id": "0bb92aa6",
   "metadata": {},
   "source": [
    "### Input the access keys to the azure blob"
   ]
  },
  {
   "cell_type": "code",
   "execution_count": null,
   "id": "6ec5e287",
   "metadata": {},
   "outputs": [],
   "source": [
    "default_container = \"https://edpcapitalandsouthern.blob.core.windows.net/rewioscvalidationstudy\"\n",
    "\n",
    "container_url = input(\"Input container URL: \") or default_container"
   ]
  },
  {
   "cell_type": "code",
   "execution_count": null,
   "id": "9cac7ad5",
   "metadata": {},
   "outputs": [],
   "source": [
    "default_token = read_txt.get(\"default_token.txt\")\n",
    "\n",
    "token = input(\"Input access token: \") or default_token"
   ]
  },
  {
   "cell_type": "markdown",
   "id": "f075da51",
   "metadata": {},
   "source": [
    "### Input Datapull Information\n",
    "Site name and datapull must match exactly what is in the Azure Storage Blob"
   ]
  },
  {
   "cell_type": "code",
   "execution_count": null,
   "id": "3883df1c",
   "metadata": {},
   "outputs": [],
   "source": [
    "site_name = input(\"Enter Site Name: \") or \"Cardinal_Point\"\n",
    "datapull = input(\"Enter Datapull: \") or \"Datapull_070225\""
   ]
  },
  {
   "cell_type": "markdown",
   "id": "e9b32e0d",
   "metadata": {},
   "source": [
    "## Calculate number of missing file"
   ]
  },
  {
   "cell_type": "code",
   "execution_count": null,
   "id": "998be495",
   "metadata": {},
   "outputs": [],
   "source": [
    "config = NotebookConfig(\"West_OSC\", site_name, datapull, container_url, token)"
   ]
  },
  {
   "cell_type": "code",
   "execution_count": null,
   "id": "1f8cb5ce",
   "metadata": {},
   "outputs": [],
   "source": [
    "config.data_access.list_cam_ids()"
   ]
  },
  {
   "cell_type": "code",
   "execution_count": null,
   "id": "c451b161",
   "metadata": {},
   "outputs": [],
   "source": [
    "config.data_access.list_video_paths()"
   ]
  }
 ],
 "metadata": {
  "kernelspec": {
   "display_name": "core_env",
   "language": "python",
   "name": "python3"
  },
  "language_info": {
   "codemirror_mode": {
    "name": "ipython",
    "version": 3
   },
   "file_extension": ".py",
   "mimetype": "text/x-python",
   "name": "python",
   "nbconvert_exporter": "python",
   "pygments_lexer": "ipython3",
   "version": "3.13.5"
  }
 },
 "nbformat": 4,
 "nbformat_minor": 5
}
